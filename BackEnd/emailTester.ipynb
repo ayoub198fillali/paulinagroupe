{
 "cells": [
  {
   "cell_type": "markdown",
   "metadata": {},
   "source": [
    "# Test API"
   ]
  },
  {
   "cell_type": "code",
   "execution_count": 4,
   "metadata": {},
   "outputs": [
    {
     "name": "stdout",
     "output_type": "stream",
     "text": [
      "Response from the API: Work ! Version 331023\n"
     ]
    }
   ],
   "source": [
    "import requests\n",
    "\n",
    "# Define the API endpoint URL\n",
    "api_url = \"https://emailsenderv2.pythonanywhere.com/\"  # Replace with the actual URL of your Flask API endpoint\n",
    "\n",
    "# Send a GET request to the API\n",
    "try:\n",
    "    response = requests.get(api_url)\n",
    "\n",
    "    if response.status_code == 200:\n",
    "        print(\"Response from the API:\", response.text)\n",
    "    else:\n",
    "        print(f\"Failed to get a response. Status code: {response.status_code}\")\n",
    "except requests.exceptions.RequestException as e:\n",
    "    print(f\"Request error: {e}\")\n"
   ]
  },
  {
   "cell_type": "markdown",
   "metadata": {},
   "source": [
    "# Use API"
   ]
  },
  {
   "cell_type": "code",
   "execution_count": 35,
   "metadata": {},
   "outputs": [
    {
     "name": "stdout",
     "output_type": "stream",
     "text": [
      "{\"message\":\"E-mail sent successfully\"}\n",
      "\n",
      "Email sent successfully\n"
     ]
    }
   ],
   "source": [
    "import requests\n",
    "\n",
    "# Define the API endpoint URL\n",
    "api_url = \"https://emailsenderv2.pythonanywhere.com/send-email\"  # Replace with the actual URL of your Flask API endpoint\n",
    "\n",
    "# Define the email data\n",
    "email_data = {\n",
    "    \"recipient_email\": \"15982\",\n",
    "    \"subject\": \"Test Email\",\n",
    "    \"body\": \"This is a test email from the client-side Python script.\"\n",
    "}\n",
    "\n",
    "# Send a POST request to the API\n",
    "try:\n",
    "    response = requests.post(api_url, data=email_data)\n",
    "    print(response.text)\n",
    "    if response.status_code == 200:\n",
    "        print(\"Email sent successfully\")\n",
    "    else:\n",
    "        print(f\"Failed to send email. Status code: {response.status_code}\")\n",
    "        print(response.text)\n",
    "except requests.exceptions.RequestException as e:\n",
    "    print(f\"Request error: {e}\")\n"
   ]
  }
 ],
 "metadata": {
  "kernelspec": {
   "display_name": "Python 3",
   "language": "python",
   "name": "python3"
  },
  "language_info": {
   "codemirror_mode": {
    "name": "ipython",
    "version": 3
   },
   "file_extension": ".py",
   "mimetype": "text/x-python",
   "name": "python",
   "nbconvert_exporter": "python",
   "pygments_lexer": "ipython3",
   "version": "3.10.0"
  }
 },
 "nbformat": 4,
 "nbformat_minor": 2
}
